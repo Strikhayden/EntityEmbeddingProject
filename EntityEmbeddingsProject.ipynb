{
 "cells": [
  {
   "cell_type": "code",
   "execution_count": 27,
   "metadata": {
    "scrolled": true
   },
   "outputs": [
    {
     "name": "stdout",
     "output_type": "stream",
     "text": [
      "country         object\n",
      "designation     object\n",
      "points           int64\n",
      "price          float64\n",
      "province        object\n",
      "region_1        object\n",
      "region_2        object\n",
      "variety         object\n",
      "winery          object\n",
      "dtype: object\n"
     ]
    }
   ],
   "source": [
    "import sklearn as sn\n",
    "import pandas as pd\n",
    "import numpy as np\n",
    "import matplotlib as mp\n",
    "import json\n",
    "data = pd.read_json(\"/Users/hayden.strikwerda/Documents/GitHub/Deep Learning/winemag-data_first150k.json\")\n",
    "data = data.drop('description', axis=1)\n",
    "data\n",
    "print(data.dtypes)"
   ]
  },
  {
   "cell_type": "code",
   "execution_count": 56,
   "metadata": {},
   "outputs": [
    {
     "name": "stdout",
     "output_type": "stream",
     "text": [
      "nunique                                                      14810\n",
      "unique values    [Williams Selyem, Testarossa, DFJ Vinhos, Chat...\n",
      "dtype: object\n"
     ]
    }
   ],
   "source": [
    "\n",
    "s = pd.value_counts(data[\"winery\"])\n",
    "s1 = pd.Series({'nunique': len(s), 'unique values': s.index.tolist()})\n",
    "print(s1)"
   ]
  },
  {
   "cell_type": "raw",
   "metadata": {},
   "source": [
    "Number of unique categories in each column.\n",
    "Country: 48 \n",
    "Designation: 30621\n",
    "Points: 21 (They only took wines rated 80>)\n",
    "Price: 357\n",
    "Province: 455\n",
    "Region_1: 1236\n",
    "Region_2: 18\n",
    "Variety: 632\n",
    "Winery: 14810"
   ]
  }
 ],
 "metadata": {
  "kernelspec": {
   "display_name": "Python 3",
   "language": "python",
   "name": "python3"
  },
  "language_info": {
   "codemirror_mode": {
    "name": "ipython",
    "version": 3
   },
   "file_extension": ".py",
   "mimetype": "text/x-python",
   "name": "python",
   "nbconvert_exporter": "python",
   "pygments_lexer": "ipython3",
   "version": "3.7.3"
  }
 },
 "nbformat": 4,
 "nbformat_minor": 2
}
